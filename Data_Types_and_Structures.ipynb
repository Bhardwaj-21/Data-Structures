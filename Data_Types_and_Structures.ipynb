{
  "nbformat": 4,
  "nbformat_minor": 0,
  "metadata": {
    "colab": {
      "provenance": []
    },
    "kernelspec": {
      "name": "python3",
      "display_name": "Python 3"
    },
    "language_info": {
      "name": "python"
    }
  },
  "cells": [
    {
      "cell_type": "markdown",
      "source": [
        "Data Types and Structures Questions\n",
        "\n",
        "1. What are data structures, and why are they important?\n",
        "\n",
        "  -> A data structure is a way of organizing and storing data in a computer so that it can be accessed and modified efficiently.\n",
        "\n",
        "  -> They improve speed, memory use, and help solve problems effectively.\n",
        "\n",
        "2. Explain the difference between mutable and immutable data types with examples.\n",
        "\n",
        "  -> Mutable data types can be changed after creation.\n",
        "\n",
        "  -> Immutable data types cannot be changed after creation.\n",
        "\n",
        "  -> Example:\n",
        "\n",
        "\n",
        "    Mutable:\n",
        "    list: a = [1, 2] → a.append(3) → a = [1, 2, 3]\n",
        "    \n",
        "    Immutable:\n",
        "    tuple: t = (1, 2) → can’t do t.append(3) → error\n",
        "    str: s = \"hi\" → s[0] = \"H\" → error\n",
        "\n",
        "3. What are the main differences between lists and tuples in Python?\n",
        "\n",
        "  -> List:\n",
        "  \n",
        "  . Mutable (can change)\n",
        "  \n",
        "  . Syntax: my_list = [1, 2]\n",
        "\n",
        "  . Slower performance\n",
        "\n",
        "  . It is used for dynamic data.\n",
        "\n",
        "  -> Tuple:\n",
        "\n",
        "  . Immutable (can't change)\n",
        "\n",
        "  . Syntax: my_tuple = (1, 2)\n",
        "\n",
        "  . Faster performance\n",
        "\n",
        "  . It is used for fixed data\n",
        "\n",
        "4. Describe how dictionaries store data.\n",
        "\n",
        "  -> Dictionaries in Python store data as key-value pairs.\n",
        "\n",
        "  -> Structure:\n",
        "  \n",
        "    \n",
        "    my_dict = {\"name\": \"Alice\", \"age\": 25}\n",
        "\n",
        "  -> Dictionaries map keys to values and let you quickly find or update data using the key.\n",
        "\n",
        "5. Why might you use a set instead of a list in Python?\n",
        "\n",
        "  -> We might use a set instead of a list when:\n",
        "\n",
        "  . You need unique items – sets automatically remove duplicates.\n",
        "\n",
        "  . You need fast lookups – checking if an item exists is faster in sets.\n",
        "\n",
        "  . You want to perform set operations – like union, intersection, difference.\n",
        "\n",
        "  -> Example:\n",
        "\n",
        "\n",
        "    s = set([1, 2, 2, 3])  # s = {1, 2, 3}\n",
        "\n",
        "6. What is a string in Python, and how is it different from a list?\n",
        "\n",
        "  -> A string is a sequence of characters, like text.\n",
        "\n",
        "  -> Example:\n",
        "\n",
        "\n",
        "    s = \"hello\"\n",
        "\n",
        "  -> Difference: String:\n",
        "\n",
        "  . String is of characters only.\n",
        "\n",
        "  . It is immutable.\n",
        "\n",
        "  . Syntax: \"hello\" or 'hi'\n",
        "\n",
        "\n",
        "  -> List:\n",
        "\n",
        "  . It is of any data type.\n",
        "\n",
        "  . It is mutable.\n",
        "\n",
        "  . Syntax: [1, \"hi\", 3.5]\n",
        "\n",
        "\n",
        "7. How do tuples ensure data integrity in Python?\n",
        "\n",
        "  -> Tuples ensure data integrity by being immutable, once created, they cannot be changed.\n",
        "\n",
        "  -> Prevents accidental data modification.\n",
        "\n",
        "  -> Makes data safe to use in fixed structures (like keys in dictionaries)\n",
        "\n",
        "  -> Ideal for storing constants or read-only data.\n",
        "\n",
        "  -> Example:\n",
        "  \n",
        "\n",
        "    t = (1, 2, 3)\n",
        "    t[0] = 10  # Error! Tuples can't be modified\n",
        "\n",
        "8.  What is a hash table, and how does it relate to dictionaries in Python?\n",
        "\n",
        "  -> A hash table is a data structure that stores data using key-value pairs and uses a hash function to quickly find the value for a given key.\n",
        "\n",
        "  -> In Python, dictionaries are implemented using hash tables.\n",
        "\n",
        "  -> The key is passed through a hash function.\n",
        "\n",
        "  -> The result determines where the value is stored.\n",
        "\n",
        "  -> This allows for fast lookups, inserts, and deletes.\n",
        "\n",
        "\n",
        "9. Can lists contain different data types in Python?\n",
        "\n",
        "  -> Yes, lists in Python can contain different data types.\n",
        "\n",
        "  -> Example:\n",
        "  \n",
        "    \n",
        "    my_list = [1, \"hello\", 3.14, True]\n",
        "\n",
        "10. Explain why strings are immutable in Python?\n",
        "\n",
        "  -> Strings are immutable in Python to ensure:\n",
        "\n",
        "  -> Data integrity – prevents accidental changes.\n",
        "\n",
        "  -> Performance – allows safe sharing and caching of strings.\n",
        "  \n",
        "  -> Hashing – immutable strings can be used as dictionary keys or set elements.\n",
        "  \n",
        "  -> Example:\n",
        "  \n",
        "    \n",
        "    s =\"hello\"\n",
        "    s[0] = \"H\"  # Error: strings can't be changed\n",
        "\n",
        "11.  What advantages do dictionaries offer over lists for certain tasks?\n",
        "\n",
        "  -> Dictionaries offer key advantages over lists when:\n",
        "   \n",
        "   . Fast lookups by key\n",
        "    \n",
        "     dict: 🔍 O(1) time\n",
        "     list: 🔍 O(n) time (have to search)\n",
        "  -> Key-value pairing\n",
        "\n",
        "  . Store data with meaningful labels (e.g., \"name\": \"Alice\")\n",
        "\n",
        "  -> No need to remember index positions\n",
        "\n",
        "  -> Example:\n",
        "  \n",
        "    \n",
        "    person = {\"name\": \"Alice\", \"age\": 25}  # Easy access by key\n",
        "\n",
        "12. Describe a scenario where using a tuple would be preferable over a list?\n",
        "\n",
        "  -> Scenario: Returning multiple values from a function that shouldn’t be changed.\n",
        "\n",
        "  -> Example:\n",
        "  \n",
        "\n",
        "    def get_user():\n",
        "    return (\"Alice\", 25)  # name and age as a tuple\n",
        "\n",
        "    user = get_user()\n",
        "    # Safer than list — prevents accidental changes\n",
        "\n",
        "  -> Why tuple is better:\n",
        "\n",
        "  . Data is fixed (name & age shouldn't change)\n",
        "\n",
        "  . Faster and memory-efficient\n",
        "  \n",
        "  . Can be used as a key in a dictionary\n",
        "\n",
        "\n",
        "13. How do sets handle duplicate values in Python?\n",
        "\n",
        "  -> Sets automatically remove duplicate values in Python.\n",
        "\n",
        "  -> Only unique elements are stored.\n",
        "\n",
        "  -> No need to manually filter duplicates.\n",
        "\n",
        "  -> Example:\n",
        "\n",
        "   \n",
        "    s = set([1, 2, 2, 3])\n",
        "    print(s)  # Output: {1, 2, 3}\n",
        "\n",
        "  \n",
        "14.  How does the “in” keyword work differently for lists and dictionaries?\n",
        "\n",
        "  -> How \"in\" works:\n",
        "\n",
        "  . In a list: checks if a value exists:\n",
        "\n",
        "    \n",
        "    3 in [1, 2, 3]  #  True\n",
        "\n",
        "\n",
        "  . In a dictionary: checks if a key exists:\n",
        "\n",
        "\n",
        "    \"name\" in {\"name\": \"Alice\"}  #  True\n",
        "    \"Alice\" in {\"name\": \"Alice\"}  #  False\n",
        "\n",
        "\n",
        "15. Can you modify the elements of a tuple? Explain why or why not?\n",
        "\n",
        "  -> No, you cannot modify the elements of a tuple.\n",
        "\n",
        "  -> Tuples are immutable — once created, their contents cannot change.\n",
        "\n",
        "  -> Example:\n",
        "\n",
        "\n",
        "    t = (1, 2, 3)\n",
        "    t[0] = 10  # Error: 'tuple' object does not support item assignment\n",
        "\n",
        "16. What is a nested dictionary, and give an example of its use case?\n",
        "\n",
        "  -> A nested dictionary is a dictionary inside another dictionary.\n",
        "\n",
        "  -> Example:\n",
        "\n",
        "  \n",
        "    students = {\n",
        "    \"Alice\": {\"age\": 25, \"grade\": \"A\"},\n",
        "    \"Bob\": {\"age\": 22, \"grade\": \"B\"},\n",
        "    }\n",
        "\n",
        "  -> Use case:\n",
        "\n",
        "  . Storing structured data, like student records, configurations, or JSON-style data.\n",
        "\n",
        "\n",
        "17.  Describe the time complexity of accessing elements in a dictionary.\n",
        "\n",
        "  -> Time complexity of accessing elements in a dictionary:\n",
        "  \n",
        "  . Average case: O(1) — constant time using hashing\n",
        "  \n",
        "  . Worst case: O(n) — rare, due to hash collisions.\n",
        "\n",
        "\n",
        "18. In what situations are lists preferred over dictionaries.\n",
        "\n",
        "  -> Use a list instead of a dictionary when:\n",
        "\n",
        "  . Order matters\n",
        "\n",
        "  Lists maintain element order (especially useful for sequences).\n",
        "\n",
        "  . You only need values, not key-value pairs\n",
        "\n",
        "Like [1, 2, 3, 4] instead of {\"a\": 1, \"b\": 2}.\n",
        "\n",
        "  . Data is simple and doesn't need labels\n",
        "\n",
        "e.g., processing a series of numbers or items.\n",
        "\n",
        "  . Index-based access is sufficient\n",
        "\n",
        "Like my_list[0] instead of looking up by key.\n",
        "\n",
        "19. Why are dictionaries considered unordered, and how does that affect data retrieval?\n",
        "\n",
        "  -> They used hashing, which doesn’t guarantee item order.\n",
        "\n",
        "  -> Before Python 3.7, insertion order wasn’t preserved.\n",
        "\n",
        "  -> Since Python 3.7:\n",
        "\n",
        "  . Dictionaries do preserve insertion order, but they’re still accessed by key, not index.\n",
        "\n",
        "  -> How this affects data retrieval:\n",
        "\n",
        "  . You can’t access items by position, like in a list.\n",
        "  \n",
        "  . You must know the key to get the value.\n",
        "\n",
        "  ->\n",
        "    \n",
        "    \n",
        "    d = {\"name\": \"Alice\", \"age\": 25}\n",
        "    d[\"name\"]     #  returns \"Alice\"\n",
        "    d[0]          #  Error! No index access\n",
        "\n",
        "\n",
        "20. Explain the difference between a list and a dictionary in terms of data retrieval.\n",
        "\n",
        "  -> List:\n",
        "\n",
        "  . Access method\t- By index (position)\n",
        "\n",
        "  . Example\t- my_list[0]\n",
        "\n",
        "  . Use case - Ordered sequences\n",
        "\n",
        "  . Speed\t- O(1) for index access\n",
        "\n",
        "  -> Dictionary:\n",
        "\n",
        "  . Access method\t- By key (name/label)\n",
        "\n",
        "  . Example\t-\tmy_dict[\"name\"]\n",
        "\n",
        "  . Use case - Key-value lookups\n",
        "\n",
        "  . Speed\t- O(1) for key access (on average)\n",
        "\n",
        "\n",
        "Practical Questions\n",
        "\n",
        "1. Write a code to create a string with your name and print it\n",
        "\n",
        "\n",
        "\n",
        "\n",
        "\n",
        "\n",
        "\n",
        "\n",
        "\n",
        "\n",
        "\n",
        "\n",
        "\n",
        "\n"
      ],
      "metadata": {
        "id": "e_JXYas-4xUN"
      }
    },
    {
      "cell_type": "code",
      "source": [
        "my_name = \"Rishabh\"\n",
        "print(my_name)"
      ],
      "metadata": {
        "id": "NDT9k6LqzxYz"
      },
      "execution_count": null,
      "outputs": []
    },
    {
      "cell_type": "markdown",
      "source": [
        "2. Write a code to find the length of the string \"Hello World\""
      ],
      "metadata": {
        "id": "xRD6zIonz5T1"
      }
    },
    {
      "cell_type": "code",
      "source": [
        "text = \"Hello World\"\n",
        "length = len(text)\n",
        "print(length)"
      ],
      "metadata": {
        "id": "W1YXN_siz_Xm"
      },
      "execution_count": null,
      "outputs": []
    },
    {
      "cell_type": "markdown",
      "source": [
        "3. Write a code to slice the first 3 characters from the string \"Python Programming\"."
      ],
      "metadata": {
        "id": "tCtikwbT0BGR"
      }
    },
    {
      "cell_type": "code",
      "source": [
        "text = \"Python Programming\"\n",
        "sliced = text[:3]\n",
        "print(sliced)"
      ],
      "metadata": {
        "id": "YEz2xpA70KJf"
      },
      "execution_count": null,
      "outputs": []
    },
    {
      "cell_type": "markdown",
      "source": [
        "4. Write a code to convert the string \"hello\" to uppercase"
      ],
      "metadata": {
        "id": "5yZqqG5S0L8j"
      }
    },
    {
      "cell_type": "code",
      "source": [
        "text = \"hello\"\n",
        "uppercase_text = text.upper()\n",
        "print(uppercase_text)"
      ],
      "metadata": {
        "id": "lAOyvZsJ0Pz8"
      },
      "execution_count": null,
      "outputs": []
    },
    {
      "cell_type": "markdown",
      "source": [
        "5. Write a code to replace the word \"apple\" with \"orange\" in the string \"I like apple\""
      ],
      "metadata": {
        "id": "fEA98QIj0UYH"
      }
    },
    {
      "cell_type": "code",
      "source": [
        "text = \"I like apple\"\n",
        "new_text = text.replace(\"apple\", \"orange\")\n",
        "print(new_text)"
      ],
      "metadata": {
        "id": "tA-6H6cA0YpS"
      },
      "execution_count": null,
      "outputs": []
    },
    {
      "cell_type": "markdown",
      "source": [
        "6. Write a code to create a list with numbers 1 to 5 and print it."
      ],
      "metadata": {
        "id": "kWX1J5rE0ica"
      }
    },
    {
      "cell_type": "code",
      "source": [
        "numbers = [1, 2, 3, 4, 5]\n",
        "print(numbers)"
      ],
      "metadata": {
        "id": "pN5_dgVM0nxi"
      },
      "execution_count": null,
      "outputs": []
    },
    {
      "cell_type": "markdown",
      "source": [
        "7. Write a code to append the number 10 to the list [1, 2, 3, 4]"
      ],
      "metadata": {
        "id": "EAoJ7EbZ0uVt"
      }
    },
    {
      "cell_type": "code",
      "source": [
        "numbers = [1, 2, 3, 4]\n",
        "numbers.append(10)\n",
        "print(numbers)"
      ],
      "metadata": {
        "id": "FhLlsLKo07_B"
      },
      "execution_count": null,
      "outputs": []
    },
    {
      "cell_type": "markdown",
      "source": [
        "8. Write a code to remove the number 3 from the list [1, 2, 3, 4, 5]"
      ],
      "metadata": {
        "id": "Jbd53Cp40_kN"
      }
    },
    {
      "cell_type": "code",
      "source": [
        "numbers = [1, 2, 3, 4, 5]\n",
        "numbers.remove(3)\n",
        "print(numbers)"
      ],
      "metadata": {
        "id": "p17aXOal1Fvh"
      },
      "execution_count": null,
      "outputs": []
    },
    {
      "cell_type": "markdown",
      "source": [
        "9. Write a code to access the second element in the list ['a', 'b', 'c', 'd']"
      ],
      "metadata": {
        "id": "R-cjQw701KzN"
      }
    },
    {
      "cell_type": "code",
      "source": [
        "letters = ['a', 'b', 'c', 'd']\n",
        "second_element = letters[1]\n",
        "print(second_element)"
      ],
      "metadata": {
        "id": "ZMAUXENy1Pe9"
      },
      "execution_count": null,
      "outputs": []
    },
    {
      "cell_type": "markdown",
      "source": [
        "10. Write a code to reverse the list [10, 20, 30, 40, 50]."
      ],
      "metadata": {
        "id": "bZLWWqN81Rep"
      }
    },
    {
      "cell_type": "code",
      "source": [
        "numbers = [10, 20, 30, 40, 50]\n",
        "numbers.reverse()\n",
        "print(numbers)"
      ],
      "metadata": {
        "id": "o-OSNHJ21WZ5"
      },
      "execution_count": null,
      "outputs": []
    },
    {
      "cell_type": "markdown",
      "source": [
        "11. Write a code to create a tuple with the elements 100, 200, 300 and print it"
      ],
      "metadata": {
        "id": "AXdwAhXJ1aPM"
      }
    },
    {
      "cell_type": "code",
      "source": [
        "my_tuple = (100, 200, 300)\n",
        "print(my_tuple)"
      ],
      "metadata": {
        "id": "Mpd3ZkSW1eXR"
      },
      "execution_count": null,
      "outputs": []
    },
    {
      "cell_type": "markdown",
      "source": [
        "12. Write a code to access the second-to-last element of the tuple ('red', 'green', 'blue', 'yellow')."
      ],
      "metadata": {
        "id": "9A19anx21f9Z"
      }
    },
    {
      "cell_type": "code",
      "source": [
        "colors = ('red', 'green', 'blue', 'yellow')\n",
        "second_to_last = colors[-2]\n",
        "print(second_to_last)"
      ],
      "metadata": {
        "id": "5Y1eOvB_1ktx"
      },
      "execution_count": null,
      "outputs": []
    },
    {
      "cell_type": "markdown",
      "source": [
        "13.  Write a code to find the minimum number in the tuple (10, 20, 5, 15)"
      ],
      "metadata": {
        "id": "ikITVjlQ1mLT"
      }
    },
    {
      "cell_type": "code",
      "source": [
        "numbers = (10, 20, 5, 15)\n",
        "min_number = min(numbers)\n",
        "print(min_number)"
      ],
      "metadata": {
        "id": "aSukQ9pt1qnp"
      },
      "execution_count": null,
      "outputs": []
    },
    {
      "cell_type": "markdown",
      "source": [
        "14. Write a code to find the index of the element \"cat\" in the tuple ('dog', 'cat', 'rabbit')."
      ],
      "metadata": {
        "id": "W1mtkVn31sdY"
      }
    },
    {
      "cell_type": "code",
      "source": [
        "animals = ('dog', 'cat', 'rabbit')\n",
        "index_of_cat = animals.index('cat')\n",
        "print(index_of_cat)"
      ],
      "metadata": {
        "id": "rBy47MIh1yqw"
      },
      "execution_count": null,
      "outputs": []
    },
    {
      "cell_type": "markdown",
      "source": [
        "15. Write a code to create a tuple containing three different fruits and check if \"kiwi\" is in it."
      ],
      "metadata": {
        "id": "UK5eRRDo14Xn"
      }
    },
    {
      "cell_type": "code",
      "source": [
        "fruits = (\"apple\", \"banana\", \"orange\")\n",
        "is_kiwi_present = \"kiwi\" in fruits\n",
        "print(is_kiwi_present)"
      ],
      "metadata": {
        "id": "v_klv2SQ18s8"
      },
      "execution_count": null,
      "outputs": []
    },
    {
      "cell_type": "markdown",
      "source": [
        "16. Write a code to create a set with the elements 'a', 'b', 'c' and print it."
      ],
      "metadata": {
        "id": "6VPL-bvb1-yR"
      }
    },
    {
      "cell_type": "code",
      "source": [
        "my_set = {'a', 'b', 'c'}\n",
        "print(my_set)"
      ],
      "metadata": {
        "id": "zfUFqdIr2Ca2"
      },
      "execution_count": null,
      "outputs": []
    },
    {
      "cell_type": "markdown",
      "source": [
        "17. Write a code to clear all elements from the set {1, 2, 3, 4, 5}."
      ],
      "metadata": {
        "id": "Ge5wjZIp2EbF"
      }
    },
    {
      "cell_type": "code",
      "source": [
        "my_set = {1, 2, 3, 4, 5}\n",
        "my_set.clear()\n",
        "print(my_set)"
      ],
      "metadata": {
        "id": "EuWE_7y12J7o"
      },
      "execution_count": null,
      "outputs": []
    },
    {
      "cell_type": "markdown",
      "source": [
        "18. Write a code to remove the element 4 from the set {1, 2, 3, 4}."
      ],
      "metadata": {
        "id": "dU06sJgY2g9i"
      }
    },
    {
      "cell_type": "code",
      "source": [
        "my_set = {1, 2, 3, 4}\n",
        "my_set.remove(4)\n",
        "print(my_set)"
      ],
      "metadata": {
        "id": "6G4lLqiF2l30"
      },
      "execution_count": null,
      "outputs": []
    },
    {
      "cell_type": "markdown",
      "source": [
        "19. Write a code to find the union of two sets {1, 2, 3} and {3, 4, 5}."
      ],
      "metadata": {
        "id": "H1dQhlxn2pfI"
      }
    },
    {
      "cell_type": "code",
      "source": [
        "set1 = {1, 2, 3}\n",
        "set2 = {3, 4, 5}\n",
        "union_set = set1.union(set2)\n",
        "print(union_set)"
      ],
      "metadata": {
        "id": "z6c2o_WY2sdL"
      },
      "execution_count": null,
      "outputs": []
    },
    {
      "cell_type": "markdown",
      "source": [
        "20. Write a code to find the intersection of two sets {1, 2, 3} and {2, 3, 4}"
      ],
      "metadata": {
        "id": "qepGKvFs29fU"
      }
    },
    {
      "cell_type": "code",
      "source": [
        "set1 = {1, 2, 3}\n",
        "set2 = {2, 3, 4}\n",
        "intersection_set = set1.intersection(set2)\n",
        "print(intersection_set)"
      ],
      "metadata": {
        "id": "ZoI3G_ub3G-I"
      },
      "execution_count": null,
      "outputs": []
    },
    {
      "cell_type": "markdown",
      "source": [
        "21.  Write a code to create a dictionary with the keys \"name\", \"age\", and \"city\", and print it"
      ],
      "metadata": {
        "id": "_IO66dwF3KMT"
      }
    },
    {
      "cell_type": "code",
      "source": [
        "person = {\"name\": \"Alice\", \"age\": 25, \"city\": \"New York\"}\n",
        "print(person)"
      ],
      "metadata": {
        "id": "x3VcEaxw3PvR"
      },
      "execution_count": null,
      "outputs": []
    },
    {
      "cell_type": "markdown",
      "source": [
        "22. Write a code to add a new key-value pair \"country\": \"USA\" to the dictionary {'name': 'John', 'age': 25}."
      ],
      "metadata": {
        "id": "3RLE_iFC3q1X"
      }
    },
    {
      "cell_type": "code",
      "source": [
        "person = {'name': 'John', 'age': 25}\n",
        "person['country'] = 'USA'\n",
        "print(person)"
      ],
      "metadata": {
        "id": "8W4BdSZo3wD_"
      },
      "execution_count": null,
      "outputs": []
    },
    {
      "cell_type": "markdown",
      "source": [
        "23. Write a code to access the value associated with the key \"name\" in the dictionary {'name': 'Alice', 'age': 30}"
      ],
      "metadata": {
        "id": "mX9kay893xY7"
      }
    },
    {
      "cell_type": "code",
      "source": [
        "person = {'name': 'Alice', 'age': 30}\n",
        "name_value = person['name']\n",
        "print(name_value)"
      ],
      "metadata": {
        "id": "aLlscU8O30Qf"
      },
      "execution_count": null,
      "outputs": []
    },
    {
      "cell_type": "markdown",
      "source": [
        "24. Write a code to remove the key \"age\" from the dictionary {'name': 'Bob', 'age': 22, 'city': 'New York'}."
      ],
      "metadata": {
        "id": "juwh0lKM4K5w"
      }
    },
    {
      "cell_type": "code",
      "source": [
        "person = {'name': 'Bob', 'age': 22, 'city': 'New York'}\n",
        "person.pop('age')\n",
        "print(person)"
      ],
      "metadata": {
        "id": "q7ar5-TD4Nq3"
      },
      "execution_count": null,
      "outputs": []
    },
    {
      "cell_type": "markdown",
      "source": [
        "25. Write a code to check if the key \"city\" exists in the dictionary {'name': 'Alice', 'city': 'Paris'}."
      ],
      "metadata": {
        "id": "C_NEPgV34Rac"
      }
    },
    {
      "cell_type": "code",
      "source": [
        "person = {'name': 'Alice', 'city': 'Paris'}\n",
        "has_city = 'city' in person\n",
        "print(has_city)"
      ],
      "metadata": {
        "id": "Q_NVfzlz4U1p"
      },
      "execution_count": null,
      "outputs": []
    },
    {
      "cell_type": "markdown",
      "source": [
        "26. Write a code to create a list, a tuple, and a dictionary, and print them all."
      ],
      "metadata": {
        "id": "nwy2qy2H4XHg"
      }
    },
    {
      "cell_type": "code",
      "source": [
        "my_list = [1, 2, 3]\n",
        "my_tuple = (4, 5, 6)\n",
        "my_dict = {'a': 7, 'b': 8}\n",
        "\n",
        "print(\"List:\", my_list)\n",
        "print(\"Tuple:\", my_tuple)\n",
        "print(\"Dictionary:\", my_dict)"
      ],
      "metadata": {
        "id": "_dP938Wg4b22"
      },
      "execution_count": null,
      "outputs": []
    },
    {
      "cell_type": "markdown",
      "source": [
        "27. Write a code to create a list of 5 random numbers between 1 and 100, sort it in ascending order, and print the\n",
        "result.(replaced)"
      ],
      "metadata": {
        "id": "BVhBx4MP4gv8"
      }
    },
    {
      "cell_type": "code",
      "source": [
        "import random\n",
        "\n",
        "numbers = random.sample(range(1, 101), 5)\n",
        "numbers.sort()\n",
        "print(numbers)"
      ],
      "metadata": {
        "id": "FNjYb6Sn4jx4"
      },
      "execution_count": null,
      "outputs": []
    },
    {
      "cell_type": "markdown",
      "source": [
        "28. Write a code to create a list with strings and print the element at the third index."
      ],
      "metadata": {
        "id": "WR6EHjr-4p1c"
      }
    },
    {
      "cell_type": "code",
      "source": [
        "words = [\"apple\", \"banana\", \"cherry\", \"date\", \"elderberry\"]\n",
        "print(words[3])"
      ],
      "metadata": {
        "id": "IdshkaFf4uXP"
      },
      "execution_count": null,
      "outputs": []
    },
    {
      "cell_type": "markdown",
      "source": [
        "29. Write a code to combine two dictionaries into one and print the result."
      ],
      "metadata": {
        "id": "pX6W1DRW4ziP"
      }
    },
    {
      "cell_type": "code",
      "source": [
        "dict1 = {'a': 1, 'b': 2}\n",
        "dict2 = {'c': 3, 'd': 4}\n",
        "\n",
        "combined_dict = {**dict1, **dict2}\n",
        "print(combined_dict)"
      ],
      "metadata": {
        "id": "Fsj-Mdy243aZ"
      },
      "execution_count": null,
      "outputs": []
    },
    {
      "cell_type": "markdown",
      "source": [
        "30. Write a code to convert a list of strings into a set."
      ],
      "metadata": {
        "id": "OeCXVUaF45Yu"
      }
    },
    {
      "cell_type": "code",
      "source": [
        "string_list = [\"apple\", \"banana\", \"cherry\", \"apple\"]\n",
        "string_set = set(string_list)\n",
        "print(string_set)"
      ],
      "metadata": {
        "id": "_abUQtjK49KZ"
      },
      "execution_count": null,
      "outputs": []
    }
  ]
}